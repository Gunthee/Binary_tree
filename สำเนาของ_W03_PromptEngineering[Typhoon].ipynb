{
  "nbformat": 4,
  "nbformat_minor": 0,
  "metadata": {
    "colab": {
      "provenance": [],
      "include_colab_link": true
    },
    "kernelspec": {
      "name": "python3",
      "display_name": "Python 3"
    },
    "language_info": {
      "name": "python"
    }
  },
  "cells": [
    {
      "cell_type": "markdown",
      "metadata": {
        "id": "view-in-github",
        "colab_type": "text"
      },
      "source": [
        "<a href=\"https://colab.research.google.com/github/Gunthee/Binary_tree/blob/main/%E0%B8%AA%E0%B8%B3%E0%B9%80%E0%B8%99%E0%B8%B2%E0%B8%82%E0%B8%AD%E0%B8%87_W03_PromptEngineering%5BTyphoon%5D.ipynb\" target=\"_parent\"><img src=\"https://colab.research.google.com/assets/colab-badge.svg\" alt=\"Open In Colab\"/></a>"
      ]
    },
    {
      "cell_type": "markdown",
      "source": [
        "# Tool setup"
      ],
      "metadata": {
        "id": "pvaT0p9AJOOh"
      }
    },
    {
      "cell_type": "code",
      "source": [
        "from google.colab import userdata"
      ],
      "metadata": {
        "id": "urlWyMviKd6C"
      },
      "execution_count": 10,
      "outputs": []
    },
    {
      "cell_type": "code",
      "source": [
        "from google.colab import userdata\n",
        "userdata.get('Typhoon') #adjust"
      ],
      "metadata": {
        "colab": {
          "base_uri": "https://localhost:8080/",
          "height": 35
        },
        "id": "9jQQNBySsz7F",
        "outputId": "5b3f8522-587b-48e2-e3fa-dcc5412016bd"
      },
      "execution_count": 11,
      "outputs": [
        {
          "output_type": "execute_result",
          "data": {
            "text/plain": [
              "'sk-wgVSEEMb7hEpZtSVksdDoVpIrPShhQRVWkbLhwr9yqRL2mhM'"
            ],
            "application/vnd.google.colaboratory.intrinsic+json": {
              "type": "string"
            }
          },
          "metadata": {},
          "execution_count": 11
        }
      ]
    },
    {
      "cell_type": "code",
      "source": [
        "import requests"
      ],
      "metadata": {
        "id": "kbMdtYvDF9b4"
      },
      "execution_count": 12,
      "outputs": []
    },
    {
      "cell_type": "code",
      "source": [
        "messages = [\n",
        "\t{\n",
        "\t\t\"role\": \"user\",\n",
        "\t\t\"content\": \"พูดไทยได้ไม๊\"\n",
        "\t},\n",
        "]"
      ],
      "metadata": {
        "id": "mTJZEpMgGX2j"
      },
      "execution_count": 25,
      "outputs": []
    },
    {
      "cell_type": "code",
      "source": [
        "def generate_response(messages):\n",
        "\tendpoint = 'https://api.opentyphoon.ai/v1/chat/completions'\n",
        "\tres = requests.post(endpoint, json={\n",
        "\t\t\t\"model\": \"typhoon-v2-8b-instruct\",\n",
        "\t\t\t\"max_tokens\": 512,\n",
        "\t\t\t\"messages\": messages,\n",
        "\t\t\t\"temperature\": 0.1,\n",
        "\t\t\t\"top_p\": 0.5,\n",
        "\t\t\t\"top_k\": 0,\n",
        "\t\t\t\"repetition_penalty\": 1.05,\n",
        "\t\t\t\"min_p\": 0\n",
        "\t}, headers={\"Authorization\": f\"Bearer {userdata.get('Typhoon')}\",}) #Adjust\n",
        "\treturn res.json()['choices'][0]['message']['content']"
      ],
      "metadata": {
        "id": "onwiO29QGO1U"
      },
      "execution_count": 26,
      "outputs": []
    },
    {
      "cell_type": "code",
      "source": [
        "generate_response(messages)"
      ],
      "metadata": {
        "colab": {
          "base_uri": "https://localhost:8080/",
          "height": 35
        },
        "id": "ukzLfE7YKuSi",
        "outputId": "203e6209-64be-4a89-82a1-eda82eeaae90"
      },
      "execution_count": 27,
      "outputs": [
        {
          "output_type": "execute_result",
          "data": {
            "text/plain": [
              "'ใช่ครับ ผมสามารถพูดภาษาไทยได้'"
            ],
            "application/vnd.google.colaboratory.intrinsic+json": {
              "type": "string"
            }
          },
          "metadata": {},
          "execution_count": 27
        }
      ]
    },
    {
      "cell_type": "markdown",
      "source": [
        "# Prompt engineering"
      ],
      "metadata": {
        "id": "vnbGZlz3I1z5"
      }
    },
    {
      "cell_type": "markdown",
      "source": [
        "### Zero-shot"
      ],
      "metadata": {
        "id": "qF-XYRZaCN2A"
      }
    },
    {
      "cell_type": "code",
      "source": [
        "prompt = \"\"\"Classify the sentiment of the following student feedback as positive, negative, or neutral.\n",
        "Student feedback: ```เรียนสนุกดี แต่อาจารย์สอนค่อนข้างเร็ว```\n",
        " Sentiment:\"\"\"\n",
        "\n",
        "messages = [\n",
        "    {\n",
        "      \"role\": \"user\",\n",
        "      \"content\": prompt\n",
        "    },\n",
        "]\n",
        "\n",
        "generate_response(messages)"
      ],
      "metadata": {
        "id": "zmAGsyXgGlpj",
        "colab": {
          "base_uri": "https://localhost:8080/",
          "height": 35
        },
        "outputId": "29e3926d-cbef-4b05-97ad-245cd65ed584"
      },
      "execution_count": 30,
      "outputs": [
        {
          "output_type": "execute_result",
          "data": {
            "text/plain": [
              "'Positive'"
            ],
            "application/vnd.google.colaboratory.intrinsic+json": {
              "type": "string"
            }
          },
          "metadata": {},
          "execution_count": 30
        }
      ]
    },
    {
      "cell_type": "markdown",
      "source": [
        "### Few-shot"
      ],
      "metadata": {
        "id": "Dc9zZtAS6zmO"
      }
    },
    {
      "cell_type": "code",
      "source": [
        "prompt = \"\"\"Classify the sentiment of the following student feedback as positive, negative, or neutral.\n",
        "Student feedback: ```ไม่มี```\n",
        "Sentiment: neutral\n",
        "\n",
        "Student feedback: ```เรียนสนุกดีครับ```\n",
        "Sentiment: positive\n",
        "\n",
        "Student feedback: ```อาจารย์ค่อนข้างใช้คำพูดที่แรงกับนักศึกษา```\n",
        "Sentiment: negative\n",
        "\n",
        "Student feedback: ```เรียนสนุกดี แต่อาจารย์สอนค่อนข้างเร็ว```\n",
        "Sentiment:\"\"\"\n",
        "\n",
        "messages = [\n",
        "    {\n",
        "      \"role\": \"user\",\n",
        "      \"content\": prompt\n",
        "    },\n",
        "]\n",
        "\n",
        "generate_response(messages)"
      ],
      "metadata": {
        "colab": {
          "base_uri": "https://localhost:8080/",
          "height": 35
        },
        "id": "0fPshYyTCiuw",
        "outputId": "05d50895-7ce8-4364-a21b-b198632b6d1f"
      },
      "execution_count": 31,
      "outputs": [
        {
          "output_type": "execute_result",
          "data": {
            "text/plain": [
              "'neutral'"
            ],
            "application/vnd.google.colaboratory.intrinsic+json": {
              "type": "string"
            }
          },
          "metadata": {},
          "execution_count": 31
        }
      ]
    },
    {
      "cell_type": "markdown",
      "source": [
        "### [Zero] CoT"
      ],
      "metadata": {
        "id": "qZO9a7fW7t01"
      }
    },
    {
      "cell_type": "code",
      "source": [
        "# 1st prompt reasoning\n",
        "\n",
        "prompt = \"\"\"Classify the sentiment of the following student feedback as positive, negative, or neutral. Response only onec sentiment that is mostly represented student sentiment.\n",
        "\n",
        "Student feedback: ```เรียนสนุกดี แต่อาจารย์สอนค่อนข้างเร็ว```\n",
        "Let's think step by step.\"\"\"\n",
        "\n",
        "messages = [\n",
        "    {\n",
        "      \"role\": \"user\",\n",
        "      \"content\": prompt\n",
        "    },\n",
        "]\n",
        "\n",
        "prompt_1st = generate_response(messages)\n",
        "print(prompt_1st)"
      ],
      "metadata": {
        "colab": {
          "base_uri": "https://localhost:8080/"
        },
        "id": "LHBK4lCC7wAT",
        "outputId": "19196715-5e02-4ed4-986b-5dd1035ee37d"
      },
      "execution_count": 32,
      "outputs": [
        {
          "output_type": "stream",
          "name": "stdout",
          "text": [
            "1. Identify the key components of the feedback: \"เรียนสนุกดี\" and \"อาจารย์สอนค่อนข้างเร็ว\".\n",
            "2. Analyze each component separately:\n",
            "   - \"เรียนสนุกดี\": This part of the feedback indicates a positive sentiment.\n",
            "   - \"อาจารย์สอนค่อนข้างเร็ว\": This part of the feedback suggests a negative sentiment.\n",
            "3. Determine the overall sentiment: Since the positive sentiment (\"เรียนสนุกดี\") is more prominent than the negative sentiment (\"อาจารย์สอนค่อนข้างเร็ว\"), the overall sentiment of the feedback is positive.\n"
          ]
        }
      ]
    },
    {
      "cell_type": "code",
      "source": [
        "# 2nd answer extraction\n",
        "\n",
        "prompt = f\"\"\"Classify the sentiment of the following student feedback as positive, negative, or neutral. Response only onec sentiment that is mostly represented student sentiment.\n",
        "\n",
        "Student feedback: ```เรียนสนุกดี แต่อาจารย์สอนค่อนข้างเร็ว```\n",
        "Let's think step by step.\n",
        "\n",
        "{prompt_1st}\n",
        "There is a sentiment of:\n",
        "\"\"\"\n",
        "\n",
        "messages = [\n",
        "    {\n",
        "      \"role\": \"user\",\n",
        "      \"content\": prompt\n",
        "    },\n",
        "]\n",
        "\n",
        "generate_response(messages)"
      ],
      "metadata": {
        "colab": {
          "base_uri": "https://localhost:8080/",
          "height": 35
        },
        "id": "jsurkDis8o1z",
        "outputId": "288beb48-9cb8-4e0a-f4ea-db304fb28256"
      },
      "execution_count": 33,
      "outputs": [
        {
          "output_type": "execute_result",
          "data": {
            "text/plain": [
              "'positive'"
            ],
            "application/vnd.google.colaboratory.intrinsic+json": {
              "type": "string"
            }
          },
          "metadata": {},
          "execution_count": 33
        }
      ]
    },
    {
      "cell_type": "markdown",
      "source": [
        "### Re2"
      ],
      "metadata": {
        "id": "EMN234BO9ypF"
      }
    },
    {
      "cell_type": "code",
      "source": [
        "# 1st prompt reasoning\n",
        "\n",
        "prompt = \"\"\"Classify the sentiment of the following student feedback as positive, negative, or neutral. Response only onec sentiment that is mostly represented student sentiment.\n",
        "\n",
        "Student feedback: ```เรียนสนุกดี แต่อาจารย์สอนค่อนข้างเร็ว```\n",
        "Read the feedback again: ```เรียนสนุกดี แต่อาจารย์สอนค่อนข้างเร็ว```\n",
        "Sentiment: Let's think step by step. Return the answer at the end of the response after a separator ####.\"\"\"\n",
        "\n",
        "messages = [\n",
        "    {\n",
        "      \"role\": \"user\",\n",
        "      \"content\": prompt\n",
        "    },\n",
        "]\n",
        "\n",
        "prompt_1st = generate_response(messages)\n",
        "print(prompt_1st)"
      ],
      "metadata": {
        "colab": {
          "base_uri": "https://localhost:8080/"
        },
        "id": "IF-1R-Wn92wp",
        "outputId": "5f153705-8c0e-47ca-a840-ddb86678d070"
      },
      "execution_count": 34,
      "outputs": [
        {
          "output_type": "stream",
          "name": "stdout",
          "text": [
            "The student feedback mentions that \"เรียนสนุกดี\" which indicates a positive sentiment about the learning experience being enjoyable. However, the phrase \"อาจารย์สอนค่อนข้างเร็ว\" suggests a slight negative sentiment regarding the pace of the teaching. Overall, the positive sentiment of enjoying the class seems to outweigh the negative sentiment about the teaching speed. \n",
            "\n",
            "####\n",
            "\n",
            "Sentiment: Positive\n"
          ]
        }
      ]
    },
    {
      "cell_type": "markdown",
      "source": [
        "### Tree-of-Thought"
      ],
      "metadata": {
        "id": "Vx9AV7pz-e-f"
      }
    },
    {
      "cell_type": "code",
      "source": [
        "prompt = \"\"\"Imagine three different experts are answering\n",
        "this question. All experts will write down 1 step of their thinking, then share\n",
        "it with the group. Then all experts will go on to the next step, etc. If any\n",
        "expert realizes they're wrong at any point then they leave.\n",
        "\n",
        "Classify the sentiment of the following student feedback as positive, negative, or neutral. Response only onec sentiment that is mostly represented student sentiment.\n",
        "\n",
        "Student feedback: ```เรียนสนุกดี แต่อาจารย์สอนค่อนข้างเร็ว```\n",
        "Read the feedback again: ```เรียนสนุกดี แต่อาจารย์สอนค่อนข้างเร็ว```\n",
        "Sentiment: Let's think step by step. Return the answer at the end of the response after a separator ####.\"\"\"\n",
        "\n",
        "messages = [\n",
        "    {\n",
        "      \"role\": \"user\",\n",
        "      \"content\": prompt\n",
        "    },\n",
        "]\n",
        "\n",
        "\n",
        "print(generate_response(messages))"
      ],
      "metadata": {
        "colab": {
          "base_uri": "https://localhost:8080/"
        },
        "id": "tQhTOa6U9V_g",
        "outputId": "870dea9b-f840-480a-aaa7-2741a303bc38"
      },
      "execution_count": 35,
      "outputs": [
        {
          "output_type": "stream",
          "name": "stdout",
          "text": [
            "Expert 1: The student mentions that the class is enjoyable, which indicates a positive sentiment towards the learning experience.\n",
            "\n",
            "Expert 2: However, the student also notes that the teacher teaches quite quickly. This could suggest that the pace of the lessons is not ideal for some students.\n",
            "\n",
            "Expert 3: Overall, the feedback seems to be more positive than negative, as the student appreciates the enjoyable aspect of the class.\n",
            "\n",
            "####\n",
            "\n",
            "Sentiment: Positive\n"
          ]
        }
      ]
    },
    {
      "cell_type": "markdown",
      "source": [
        "### Chain-of-Draft"
      ],
      "metadata": {
        "id": "xymkAMmHnOVX"
      }
    },
    {
      "cell_type": "code",
      "source": [
        "prompt = \"\"\"Classify the sentiment of the following student feedback as positive, negative, or neutral. Response only onec sentiment that is mostly represented student sentiment.\n",
        "\n",
        "Student feedback: ```เรียนสนุกดี แต่อาจารย์สอนค่อนข้างเร็ว```\n",
        "Read the feedback again: ```เรียนสนุกดี แต่อาจารย์สอนค่อนข้างเร็ว```\n",
        "Sentiment: Let's think step by step, but only keep a minimum draft for each thinking step, with 5 words at most. Return the answer at the end of the response after a separator ####\"\"\"\n",
        "\n",
        "messages = [\n",
        "    {\n",
        "      \"role\": \"user\",\n",
        "      \"content\": prompt\n",
        "    },\n",
        "]\n",
        "\n",
        "generate_response(messages)"
      ],
      "metadata": {
        "colab": {
          "base_uri": "https://localhost:8080/",
          "height": 35
        },
        "id": "KCG-35KOnYQt",
        "outputId": "e01cb448-f499-46a6-ee32-1dd2d0d201d0"
      },
      "execution_count": 36,
      "outputs": [
        {
          "output_type": "execute_result",
          "data": {
            "text/plain": [
              "'Positive sentiment is mostly represented.  \\n####  \\nSentiment: Positive'"
            ],
            "application/vnd.google.colaboratory.intrinsic+json": {
              "type": "string"
            }
          },
          "metadata": {},
          "execution_count": 36
        }
      ]
    },
    {
      "cell_type": "markdown",
      "source": [
        "# LLM Application"
      ],
      "metadata": {
        "id": "P9pLkv5EJSt3"
      }
    },
    {
      "cell_type": "markdown",
      "source": [
        "### Summarization"
      ],
      "metadata": {
        "id": "tO-Bo-2CJYHC"
      }
    },
    {
      "cell_type": "code",
      "source": [
        "review = \"Got this panda plush toy for my daughter's birthday, who loves it and takes it everywhere. It's soft and super cute, and its face has a friendly look. It's a bit small for what I paid though. I think there might be other options that are bigger for the same price. It arrived a day earlier than expected, so I got to play with it myself before I gave it to her.\"\n"
      ],
      "metadata": {
        "id": "W1Vb2WD0LdMX"
      },
      "execution_count": 37,
      "outputs": []
    },
    {
      "cell_type": "code",
      "source": [
        "prompt =  \"\"\"Summarize the review below, delimited by triple backticks, in at most 10 words.\n",
        "Review: ```{paragraph}```\"\"\".format(paragraph=review)\n",
        "\n",
        "print(prompt)"
      ],
      "metadata": {
        "colab": {
          "base_uri": "https://localhost:8080/"
        },
        "id": "yi72Q9H6JWbf",
        "outputId": "e4c98230-fbdb-4c0e-d74e-96ab5e6afa0a"
      },
      "execution_count": 38,
      "outputs": [
        {
          "output_type": "stream",
          "name": "stdout",
          "text": [
            "Summarize the review below, delimited by triple backticks, in at most 10 words.\n",
            "Review: ```Got this panda plush toy for my daughter's birthday, who loves it and takes it everywhere. It's soft and super cute, and its face has a friendly look. It's a bit small for what I paid though. I think there might be other options that are bigger for the same price. It arrived a day earlier than expected, so I got to play with it myself before I gave it to her.```\n"
          ]
        }
      ]
    },
    {
      "cell_type": "code",
      "source": [
        "messages = [\n",
        "    {\n",
        "        \"role\": \"system\",\n",
        "        \"content\": \"You are a helpful assistant. Your task is to generate a short summary of a product review from an ecommerce site.\"\n",
        "    },\n",
        "    {\n",
        "      \"role\": \"user\",\n",
        "      \"content\": prompt\n",
        "    },\n",
        "]\n",
        "\n",
        "generate_response(messages)"
      ],
      "metadata": {
        "colab": {
          "base_uri": "https://localhost:8080/",
          "height": 35
        },
        "id": "E78y6QxJK9Qm",
        "outputId": "3615c7a2-1505-42af-f9a8-81d3e572f97e"
      },
      "execution_count": 39,
      "outputs": [
        {
          "output_type": "execute_result",
          "data": {
            "text/plain": [
              "'```markdown\\nCute panda plush toy, but a bit small for the price.\\n```'"
            ],
            "application/vnd.google.colaboratory.intrinsic+json": {
              "type": "string"
            }
          },
          "metadata": {},
          "execution_count": 39
        }
      ]
    },
    {
      "cell_type": "markdown",
      "source": [
        "### Classification"
      ],
      "metadata": {
        "id": "Zzi0J_SaLgvs"
      }
    },
    {
      "cell_type": "code",
      "source": [
        "system_prompt = \"\"\"You are a helpful assistant. Your task is to classify sentiment of a product review from an ecommerce site, which is delimited with triple backticks?\n",
        "Give your answer as a single word, either \"positive\" or \"negative\".\n",
        "\"\"\""
      ],
      "metadata": {
        "id": "0xgzhj-QQ4e8"
      },
      "execution_count": 40,
      "outputs": []
    },
    {
      "cell_type": "code",
      "source": [
        "review = \"\"\"I own this mouse in both colors now and use it everyday for both gaming and schoolwork.\n",
        "After using my black one for about 1 1/2 years, I can say I've had no issues.\n",
        "The light up detail on the mouse is pretty and matches my new setup- it's white on the white mouse and green on the black mouse.\n",
        "The two side buttons are useful as key binds in many games and to go back and forth with webpages and I'm happy there isn't a DPI button near the scroll wheel- no accidental DPI changes.\n",
        "The mouse also has a slightly matte texture on the top which makes using it enjoyable. Not a very heavy mouse, is a good size for an average length hand.\n",
        "\"\"\""
      ],
      "metadata": {
        "id": "m6s76DlSLjAP"
      },
      "execution_count": 41,
      "outputs": []
    },
    {
      "cell_type": "code",
      "source": [
        "prompt =  \"\"\"Review: ```{paragraph}```\"\"\".format(paragraph=review)\n",
        "\n",
        "print(prompt)"
      ],
      "metadata": {
        "colab": {
          "base_uri": "https://localhost:8080/"
        },
        "id": "7Od0P8a2Pszg",
        "outputId": "a23ffb44-989c-4844-9538-a57cda283384"
      },
      "execution_count": 42,
      "outputs": [
        {
          "output_type": "stream",
          "name": "stdout",
          "text": [
            "Review: ```I own this mouse in both colors now and use it everyday for both gaming and schoolwork.\n",
            "After using my black one for about 1 1/2 years, I can say I've had no issues.\n",
            "The light up detail on the mouse is pretty and matches my new setup- it's white on the white mouse and green on the black mouse.\n",
            "The two side buttons are useful as key binds in many games and to go back and forth with webpages and I'm happy there isn't a DPI button near the scroll wheel- no accidental DPI changes.\n",
            "The mouse also has a slightly matte texture on the top which makes using it enjoyable. Not a very heavy mouse, is a good size for an average length hand.\n",
            "```\n"
          ]
        }
      ]
    },
    {
      "cell_type": "code",
      "source": [
        "messages = [\n",
        "    {\n",
        "        \"role\": \"system\",\n",
        "        \"content\": system_prompt\n",
        "    },\n",
        "    {\n",
        "      \"role\": \"user\",\n",
        "      \"content\": prompt\n",
        "    },\n",
        "]\n",
        "\n",
        "generate_response(messages)"
      ],
      "metadata": {
        "colab": {
          "base_uri": "https://localhost:8080/",
          "height": 35
        },
        "id": "yV7xgBqiPwwx",
        "outputId": "4201e498-5f84-4207-fcb3-27d95494f620"
      },
      "execution_count": 43,
      "outputs": [
        {
          "output_type": "execute_result",
          "data": {
            "text/plain": [
              "'positive'"
            ],
            "application/vnd.google.colaboratory.intrinsic+json": {
              "type": "string"
            }
          },
          "metadata": {},
          "execution_count": 43
        }
      ]
    },
    {
      "cell_type": "markdown",
      "source": [
        "### Topic modeling"
      ],
      "metadata": {
        "id": "n8AbMuV4QYv2"
      }
    },
    {
      "cell_type": "code",
      "source": [
        "system_prompt = \"\"\"You are a helpful assistant. Your task is to classify the topic of a article from news site, which is delimited with triple backticks?\n",
        "\n",
        "Give your answer as list with 0 or 1 for each topic.\n",
        "\n",
        "List of topics: nasa, local government, engineering, employee satisfaction, federal government\n",
        "\"\"\""
      ],
      "metadata": {
        "id": "Jds_JZGCRT7N"
      },
      "execution_count": 44,
      "outputs": []
    },
    {
      "cell_type": "code",
      "source": [
        "article = \"\"\"In a recent survey conducted by the government, public sector employees were asked to rate their level of satisfaction with the department they work at. The results revealed that NASA was the most popular department with a satisfaction rating of 95%.\n",
        "\n",
        "One NASA employee, John Smith, commented on the findings, stating, \"I'm not surprised that NASA came out on top. It's a great place to work with amazing people and incredible opportunities. I'm proud to be a part of such an innovative organization.\"\n",
        "\n",
        "The results were also welcomed by NASA's management team, with Director Tom Johnson stating, \"We are thrilled to hear that our employees are satisfied with their work at NASA. We have a talented and dedicated team who work tirelessly to achieve our goals, and it's fantastic to see that their hard work is paying off.\"\n",
        "\n",
        "The survey also revealed that the Social Security Administration had the lowest satisfaction rating, with only 45% of employees indicating they were satisfied with their job. The government has pledged to address the concerns raised by employees in the survey and work towards improving job satisfaction across all departments.\n",
        "\"\"\""
      ],
      "metadata": {
        "id": "qEVIBJcLQSlp"
      },
      "execution_count": 45,
      "outputs": []
    },
    {
      "cell_type": "code",
      "source": [
        "prompt =  \"\"\"Article: ```{paragraph}```\"\"\".format(paragraph=article)\n",
        "\n",
        "print(prompt)"
      ],
      "metadata": {
        "colab": {
          "base_uri": "https://localhost:8080/"
        },
        "id": "kWxZ3xFNQvco",
        "outputId": "7b98028f-4cd6-4921-a180-1e3334089fab"
      },
      "execution_count": 46,
      "outputs": [
        {
          "output_type": "stream",
          "name": "stdout",
          "text": [
            "Article: ```In a recent survey conducted by the government, public sector employees were asked to rate their level of satisfaction with the department they work at. The results revealed that NASA was the most popular department with a satisfaction rating of 95%.\n",
            "\n",
            "One NASA employee, John Smith, commented on the findings, stating, \"I'm not surprised that NASA came out on top. It's a great place to work with amazing people and incredible opportunities. I'm proud to be a part of such an innovative organization.\"\n",
            "\n",
            "The results were also welcomed by NASA's management team, with Director Tom Johnson stating, \"We are thrilled to hear that our employees are satisfied with their work at NASA. We have a talented and dedicated team who work tirelessly to achieve our goals, and it's fantastic to see that their hard work is paying off.\"\n",
            "\n",
            "The survey also revealed that the Social Security Administration had the lowest satisfaction rating, with only 45% of employees indicating they were satisfied with their job. The government has pledged to address the concerns raised by employees in the survey and work towards improving job satisfaction across all departments.\n",
            "```\n"
          ]
        }
      ]
    },
    {
      "cell_type": "code",
      "source": [
        "messages = [\n",
        "    {\n",
        "        \"role\": \"system\",\n",
        "        \"content\": system_prompt\n",
        "    },\n",
        "    {\n",
        "      \"role\": \"user\",\n",
        "      \"content\": prompt\n",
        "    },\n",
        "]\n",
        "\n",
        "print(generate_response(messages))"
      ],
      "metadata": {
        "colab": {
          "base_uri": "https://localhost:8080/"
        },
        "id": "O33v8azFRpW6",
        "outputId": "c33b0708-79f6-4513-e8f4-ca309e3ec2e7"
      },
      "execution_count": 47,
      "outputs": [
        {
          "output_type": "stream",
          "name": "stdout",
          "text": [
            "[1, 0, 0, 0, 1]\n"
          ]
        }
      ]
    },
    {
      "cell_type": "code",
      "source": [],
      "metadata": {
        "id": "cOlGWSA7Sy7o"
      },
      "execution_count": null,
      "outputs": []
    }
  ]
}